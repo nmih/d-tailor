{
 "cells": [
  {
   "cell_type": "markdown",
   "metadata": {},
   "source": [
    "# README\n",
    "\n",
    "- Requirements\n",
    "    - numpy, pandas (``pip install numpy``, ``pip install pandas``)\n",
    "    - D-Tailor (``pip install -e .`` from the cloned repository)\n",
    "    - ViennaRNA for MFE calculations: https://www.tbi.univie.ac.at/RNA/#download"
   ]
  },
  {
   "cell_type": "code",
   "execution_count": 2,
   "metadata": {},
   "outputs": [],
   "source": [
    "import sys, logging\n",
    "\n",
    "# Create logger\n",
    "logger = logging.getLogger()\n",
    "logger.setLevel(logging.INFO)  # SET YOUR LOGGING LEVEL HERE #\n",
    "\n",
    "# Other logger stuff for Jupyter notebooks\n",
    "handler = logging.StreamHandler(sys.stderr)\n",
    "formatter = logging.Formatter('[%(asctime)s] [%(name)s] %(levelname)s: %(message)s', datefmt=\"%Y-%m-%d %H:%M\")\n",
    "handler.setFormatter(formatter)\n",
    "logger.handlers = [handler]"
   ]
  },
  {
   "cell_type": "markdown",
   "metadata": {},
   "source": [
    "## Example sequences\n",
    "\n",
    "- NOTE: had to clean the CDS file to not include `|` in the gene names, D-Tailor tries to write files out with those and it just won't work in bash"
   ]
  },
  {
   "cell_type": "code",
   "execution_count": 25,
   "metadata": {},
   "outputs": [],
   "source": [
    "# Random sequences to optimize\n",
    "seqs_to_optimize = {\n",
    "    'example1': 'ATGTCTGCAACTTCCGTCACTTTCCCAATGATCAACGAAACTTACCAACAGCCAACCGGGCTTTTCATCAACAATGAATTTGTTAGTGCAAAGTCAGGTAAGACTTTTGATGTTAACACTCCAATTGATGAGTCTCTCATTTGTAAAGTCCAACAGGCCGATGCTGAAGATGTTGAAATTGCCGTTCAAGCAGCATCTAAAGCTTACAAGACTTGGAGATTTACACCGCCAAATGAAAGAGGCAGATACTTGAACAAATTGGCCGATTTGATGGACGAAAAGAGAGACTTACTTGCCAAAATTGAATCCCTTGATAATGGTAAGGCCTTACATTGTGCAAAATTCGATGTCAATCTTGTCATTGAATATTTCAGATACTGTGCAGGTTACTGTGATAAAATCGATGGTAGAACAATTACAACCGATGTCGAACATTTTACCTACACTAGAAAGGAACCTTTAGGTGTCTGTGGTGCAATTACACCTTGGAACTTCCCATTGCTGATGTTTGCTTGGAAAATCGGCCCGGCTTTAGCAACCGGTAATACCATTATTTTGAAGCCTGCCAGTGCAACACCTCTATCAAACCTCTTTACTTGTACCTTGATCAAGGAGGCGGGCATTCCAGCCGGTGTTGTTAATGTTGTTCCAGGTTCCGGTAGAGGCTGTGGTAACTCCATTTTACAACATCCTAAAATTAAGAAGGTTGCGTTTACCGGATCTACAGAAGTTGGTAAAACTGTTATGAAGGAATGTGCTAATTCCATCAAAAAGGTTACTCTCGAATTGGGTGGTAAGTCTCCAAACATTGTTTTCAAAGACTGTAACGTTGAACAAACCATTCAAAATTTGATTACTGGTATTTTCTTCAATGGTGGTGAAGTCTGTTGTGCTGGTTCTAGAATTTACATTGAAGCAACCGATGAGAAATGGTATACTGAATTCTTGACCAAATTCAAGGAGACTGTTGAAAAATTAAAGATTGGTAACCCATTTGAAGAGGGTGTTTTCCAAGGTGCACAAACCACTCCAGATCAATTCCAAACTGTCTTGGACTACATCACCGCTGCTAACGAATCCAGCTTGAAACTATTAACTGGTGGTAAAAGAATTGGCAATAAGGGATACTTTGTTGAGCCAACTATCTTCTACGATGTTCCTCAAAATTCCAAGTTAACTCAAGAAGAAATCTTTGGTCCAGTTGCTGTTGTTTTACCTTTCAAGTCCACTGAAGAATTGATTGAAAAGGCAAATGATTCCGATTTTGGTTTAGGTTCCGGTATTCACACTGAAGATTTCAACAAGGCAATTTGGGTTTCCGAAAGGCTTGAAGCAGGTTCTGTTTGGATCAACACTTACAATGATTTCCACCCAGCTGCTCCATTCGGTGGTTACAAGGAATCCGGTATTGGCAGAGAAATGGGTATTGAAGCTTTCGACAACTATACTCAAACCAAGTTAGTTAGAGCTAGAGTTAACAAGCCAGCTTTTTAG',\n",
    "    # 'example2': 'ATGGCAACCAGGACTATTAAAAACAAATACGAGTCTTACGATGCCGCACTATCCTTACAACGTCAAGTGTTGTGCTACAGTAAAGACCAAAAAGAGATCTATTATACGGCAGACCCAGCGGATCTTGAGGAAGAATCATCAGAGCCGGCTCCTGCCGCCTCCAGTTCAGCCCCTGCGCCTGTAGCGGCCGCTCCTGCGCCAGCACCAGCGGGGCCGGTTGCAGGAGTTGCCGATGCTCCTGTCCCAGCAGCGCTGGTCTTGAGGACCCTGGTCGCTCACAAGTTAAAAAAGCCGCTGGAAGATATCCCTATGACTAAAACAATTAAAGATCTAGTTGGAGGAAAATCAACAGTGCAAAATGAGATCCTAGGTGACCTGGGAAAAGAATTTGGAGCGACCCCGGAAAAACCGGAAGACACACCGCTGCAAGAACTAGCTGACCAATTCCAAGGCAGCTTCAACGGAACTTTAGGATCCCAAACTTCTTCACTGATTGCGAAGCTAATGAGTTCCAAAATGCCCGGTGGTTTCTCAGTAGGAGCTGCTCGTAAATACTTACAAAGTAGGTGGGGTCTAGAGCATGGACGTCAGGATGCTGTACTTTTGTATGCTCTAACAAACGAGCCCGCAGCAAGACTAGGATCTGAACCTGAAGCAAAGGCCTTCTTTGATGCCGCGGCACAAAAATATGCAGCCGCAGAAGGCGTTAGCCTTTCCTCTGGGGCTCCAGCTGGCGGTGCGGTCGCTGTTGGCGCAGTAGCTGTGGCTGCTGGGGCCGGCCCGGTCGCAGATGTGCCGGACGCCCCCGTGCCAGCCGCGTTAGTTCTACACACGCTAGTAGCTCATAAGTTAAAGAAACCGTTGTCTGACGTGCCAATGAGTAAACCTATCAAGGATCTTGTCGGAGGCAAATCTACGGTACAAAATGAAATATTAGGAGACCTTGGGAAGGAATTCGGGTCTACACCTGAAAAACCAGAGGATACTCCGCTGCAGGAGCTGGCTGACCAATTCCAAGACTCCTTTAATGGCACTCTTGGCAAACAATCTAGTACATTGATAGCCAAGTTGATGTCATCTAAAATGCCTGGAGGCTTCAGCGTAGGCGCTGCCAGAAAATATCTACAGTCCAGGTGGGGACTACAACAGGGGAGACAAGACGCTGTTCTATTGTATGCTCTAACCAATGAACCTGCAGCAAGACTAGGTAGTGAAGCTGAGGCTAAATCTTTCTTCGATACCGTGGCACAAAAGTACGCCGCAGCTGAGGGTGTGTCCTTATCAGCCGGTGGTGCAGGTGGAGCATCCGCTGGTGCCGGTGGTGCTGTGATCGATACAGCAGCTTTGGACGCCATTACTAAAGAAACCAAGGATCTAGCTAGACAACAGCTAGAGACTTTAGCCAGGTACTTAAAATTAGATCTTACAAAAGGCGATCGTTCCTTAATTAAAGAGAAAGAGGCTTCCAAAGTTTTACAGGCAGAATTAGATCTGTGGGCAGAGGAGCACGGCGAATTCTATGCATCCGGAATCAAACCAGTCTTTTCTCCCTTGAAAGCACGTCAGTACGATTCCTACTGGAATTGGGCCCGTCAAGACTCACTTTCGATGTACTTCGACATTATATTTGGTAAGCTGAAATCTATAGATAGAGAGACTGTGACTCAGTGTATTCAGATTATGAACAGAGCAAATCCCACTTTAATCGAGTTCATGCAGTATCATATAGACCATACTCCAACATACAAAGGCGAGACCTACGAGCTAGCAAAGAAATTGGGGCAACAATTGATAGATAATTGCAAAGAAATGCTTTCGAAGAATCAGTCTCCGGTGTTCAAGGATGTTTCTTACCCAACCGGCCCAAAGACTACTGTAGATGCTAAGGGCAACATTAATTATGAAGAAGTAAGTCGTGATAGCTGCAGAAAGTTCGAGGAATACGTACACGACATGGCTAAGGGTGGTGAAATGACAAAGGAAGTCAAGCCTACTATAGAAGAGGATTTAGCTAAGGTTTATAAAGCCTTAAGTAGACAGGCATCAGCAGAGAATCAATTGCAAATCGAATCCCTGTACAAACAGTTAATAGAGTTCGTAGAGAAGTCAAACGAGATTGAGGTATCAAAATCAGTTAGTGCTGTTCTTGACAACGAATCTACTGACGACGAGACAGATGAAATCGCAAGCTTGAAGGACTTTAGTGAAATTAAGAAACCAGTTTCAAGCACTATCCCACCAGAAACTATACCGTTTCTTCACATTAAGAGCAAAACAAAATTGGACAGTTGGGTTTACGACAAAACAAAATCTGCACTTTTCCTTGATGGTCTAGAAAAGGGTGCAGTCAACGGTATCTCTTACAAGGGTAAGATAGCCTTAGTCACGGGTGCTGGTGCTGGTTCGATAGGTGCAGAGGTCCTAAAAGGGTTGCTAAGTGGTGGAGCAAAGGTAATCGTGACTACATCGAGATACTCCAAGAAGGTTACAGAGTATTATCAGAGCCTGTATTCCAGGTTCGGTGCCTCGGGATCGGCTCTTGTTGTTGTCCCCTTTAATCAAGGATCGAAGCAGGACGTAGTCGCTTTAGTTAAGTACATTTATGACGATGTCAAACAGGGCGGCCTGGGATGGGATTTAGACTTCGTCATACCGTTCGCCGCCATACCTGAGGCCGGCATCGAAGTAGAAAATATTGGTAGTAAATCTGAGTTAGCACATCGTATAATGCTGACAAATTTATTGCGTCTACTAGGAGAAGTCGCAAGCAATAAAAGAGCAAGGAACATAACTACAAGGCCCGCAGAGGTGATACTGCCACTTAGCCCGAACCATGGTACTTTTGGGTCCGATGGGTTGTACAGTGAATCCAAGCTAGCGTTGGAGACGTTGTTTAACCGTTGGCATTCTGAGAGCTGGTCTACCTTTCTTACAATTTGCGGTGCGGTAATAGGATGGACTCGTGGGACTGGATTGATGTCTGGGAACAATATGATAGCAGAAGGCATTGAGAAATTGGGAGTGAGGACATTTTCACAGAAGGAGATGGCTTTCAACATTCTAGGTCTTATGACCCCGGAGGTAGTCCGTATGTGTGAGGAGGGACCCGTGATGGCGGATCTGAATGGAGGCCTACAATTTATTGAAAACCTAAGGGAGTATACGAATCAGTTGCGTTCCGAAATCAACAATACTTCCGAAGTCAGAAGAGCAGTTTCCATCGAAACAGCGATTGAGCACAAGATCGTCAACGGAGAGAATGCAGACGCTCCGTTCAATAAAGCGGAAGTCAAGCCTAAAGCCAACCTGACTTTTGATTTCCCAGAAACATCCCCCTACGAAGAGATAAAAGCTAAAGCACCAGAACTAGAAGGAATGTTGGATCTTGAACGTGTGATCGTCGTGACTGGCTTTTCAGAAGTGGGTCCATGGGGAAATTCTCGTACGAGGTGGGAAATGGAGGCTTTCGGAGAGTTCTCCTTGGAGGGATGTATAGAGATGGCTTGGATCATGGGATTCATCAAGTACTTCAATGGGAATATAAAGGGAAAACAATACACTGGGTGGGTCGACGCTAAAACCAATGTGCCGGTGGACGACGTTGATGTCAAAAAGAAATATGAGGCTGAAATCTTAGCGCATTCTGGCATAAGACTGGTGGAACCGGAGTTGTTTCACGGGTATGACCCCAACAAAAAACAATTAATACAAGAAGTAGTGATTCAACACGATCTTGAACCATTCATCACAGACAAGCCGACTGCAATGCAATATCAACTGCAACATGGGGAAAAAGTAGAAGTGTTTCCCGATGAATCCGGGGAGGAGTATTCCGTCAAGATACTGAAGGGAGCTACGTTGTACGTACCAAAAGCGTTGAGGTTCGACAGGCTAGTGGCGGGTCAAATCCCAACTGGATGGAATGCCAAGCATTACGGGATATCAGACGACATAATTGATCAGGTTGATCCAATTACATTGTACGTCCTTGTCGCCACCGTCGAAGCTTTGTTATCAGCGGGAATCACAGACCCGTATGAATTCTATAAGTATGTTCATGTATCAGAAGTTGGGAACTGCTCAGGCAGTGGGATGGGAGGTGTCTCTGCTCTAAAAGGTATGTTCAGGGACAGGTATAAGGAAATTCCCGTCCAAAATGATATCTTGCAAGAATCATTTATAAACACCATGTCCGCCTGGGTCAACATGTTGCTACTGTCTAGCAGTGGCCCAATCAAGACTCCCGTTGGTGCATGCGCTACGGCTTTAGAGAGCGTTGACGTCGGCGTTGAAACAATCCTATCCGGAAAGGCAAAGATAGTGCTAGTCGGAGGTTATGACGATTTTCAGGAAGAGGGGTCCTACGAATTCGCTAATATGAACGCCACTTCCAATGCGGTGGAAGAGTTTGCCCACGGAAGAACTCCTGACGAGATGTGCAGGCCTGCAACTACGACAAGGAATGGTTTTATGGAAGCTCAGGGCTCAGGAATCCAAGTCCTAATGACGGCGTCTCTTGCCCTGCAAATGGGTGTGCCGATATACGCAATAGTTGCCATGTCCAGTACTGCTTCCGATAAGATCGGACGTTCTGTTCCGGCTCCAGGTAAGGGAATTTTGACGACCGCTCGTGAATACCAGGGCGATTTGAAGTATAAATCAGCGAAGATGGACATAAAGTACCGTTCCAGGCAATTGAAGAACAGGATAGCGCAGATCAAAAACTGGGCCGAAGGGGAGCTTGATTACATTCAGGAGGAGGCCGCTCAACTTGCGGAATCAGATGCTTCTTTCAACAAAAGCGAGTTCCTAAGGGAAAGGACCGAAGAGATTGAACGTGACGCTATCAAACAAGTAAAAGATGCACAGAGGCAGCTGGGGAACGAATTCTGGAAAAATGACCCCCGTATTGCTCCGATCAGAGGTGCATTAGCGACATATAATTTGACAATTGACGATTTAGATGTATGTTCCTTCCACGGTACGTCCACCAAAGCAAACGATAAAAATGAGACGGCAACCGTCGACAAAATGATGCAGCACCTTGGACGTACAGAAGGGAATACAGTTTATGGGGTATTTCAGAAATTCCTAACTGGCCATCCGAAAGGGGCGGCAGGCGCATGGATGCTAAATGGCGCGATCCAAATACTTAATACTGGAATCGTGCCAGGGAACAGAAACGCGGACAATATAGACAAAGTCCTGGAGGACTACAAGTATGTATTGTTTCCCTCAAGAACCATAACAACGGATGGTATTAAAGCAGTGAGCGTGACTTCATTCGGCTTTGGACAGAAAGGCGCCCAGGCCATCGTAATACACCCGGACTACCTTTACGCCGCATTATCAAAAGAGGAATACGAGAGCTACACGGCGAAGGTAAGCAGCCGTCAGAAGAAATCCTATGCCTACATTCATAACGGCATGCTAAATAATTCAATATTCGTCGCTAAAGATCACGCACCGTACAACGACGACCAACAGGAGAGCGTGTATTTGGATCCATTAGCCAGGGTGTCCCCCAATAAAAAAGACGAACTAGTTTTCAACGACAACGAATTGCAGGAGAATGGCAAGTATATAAGCCCGGTAGCCGATAAAACGGCATCCGTACTATCTAACCTGACAAAAGAACAAATAGGAAGCAAAGGTGTTGGGGTAGATGTAGAGCTGATCGCCGAGATTAACATTAACAACGAGACTTTCATCGAACGTAATTTCACAGAAGAAGAAATTAAGTATTGCTCCGGGAGTGCAAACCCCAGATCCAGTTTCGCCGGGGCCTGGTCAGCTAAGGAAGCAGTCTTCAAGTCTTTAGAGGTTGAAAGCAAAGGAGCCGGAGCAAGTCTAAAGGATATAGAAATTGTGCATGCTGCAAATGGAGCTCCCACGGTCACCCTGCATGGTTCTGCCCTGCAAGCAGCCAATAAAAGGGGAGTTAAAAACGTGAAGGTCAGCATTTCTCATGATGACGTGCAGTCTGTAGCGGTAGCTATCAGTGAGTTTTAA'\n",
    "}\n",
    "\n",
    "# Ecoli CDS FASTA file\n",
    "ecoli_cds_fasta = './GCF_000005845.2_ASM584v2_cds_from_genomic_cleaned.fna'"
   ]
  },
  {
   "cell_type": "markdown",
   "metadata": {},
   "source": [
    "## Get and set some required data first"
   ]
  },
  {
   "cell_type": "markdown",
   "metadata": {},
   "source": [
    "##### CAI table for your organism's genomic CDS\n",
    "\n",
    "- NOTE: Biopython's CodonAdaptationIndex complains about sequences with incomplete frames, or stuff with \"N\" in them. Thus a modified version is supplied here."
   ]
  },
  {
   "cell_type": "code",
   "execution_count": 4,
   "metadata": {},
   "outputs": [],
   "source": [
    "from CodonUsage import CodonAdaptationIndex\n",
    "\n",
    "def get_codon_usage_table(fasta_file: str) -> dict:\n",
    "    \"\"\"Get a codon usage table of RSCUs from a FASTA file of genomic sequences.\n",
    "    \n",
    "    Args:\n",
    "        fasta_file: Path to FASTA file\n",
    "\n",
    "    Returns:\n",
    "        dict: Codon to RSCU value\n",
    "\n",
    "    \"\"\"\n",
    "    biop_cai = CodonAdaptationIndex()\n",
    "    biop_cai.generate_index(fasta_file=fasta_file)\n",
    "\n",
    "    final_table = {k.lower():v for k,v in biop_cai.index.items()}\n",
    "\n",
    "    return final_table"
   ]
  },
  {
   "cell_type": "code",
   "execution_count": 5,
   "metadata": {},
   "outputs": [],
   "source": [
    "cai_table = get_codon_usage_table(ecoli_cds_fasta)"
   ]
  },
  {
   "cell_type": "markdown",
   "metadata": {},
   "source": [
    "##### Define what you want a ramp to be"
   ]
  },
  {
   "cell_type": "code",
   "execution_count": 6,
   "metadata": {},
   "outputs": [],
   "source": [
    "# Ramp = first 120 bp (40 codons)\n",
    "ramp_from_to = (0,120)"
   ]
  },
  {
   "cell_type": "markdown",
   "metadata": {},
   "source": [
    "## Analyze CAI and MFE for an entire CDS FASTA file\n",
    "\n",
    "``AllAndRampAnalyzer`` -- for each CDS, calculates:\n",
    "\n",
    "- The CAI of the entire sequence (`allCAI`)\n",
    "- The CAI of the specified ramp (`rampCAI`)\n",
    "- The CAI of the the non-ramp portion (`restCAI`)\n",
    "- The MFE of the ramp (`mfeStructureRNAFoldMFE`)\n",
    "\n",
    "    - **IMPORTANT** - requres `RNAfold` to be executable from your path! Otherwise returns \"NA\"\n",
    "    \n",
    "**This analyzed information can then be used to set quintiles/levels for D-tailor to optimize to.**\n",
    "\n",
    "Any errors seen are usually inconsistencies with the coding sequence itself.\n",
    "\n",
    "I usually save the computed info as a json file for easier reuse."
   ]
  },
  {
   "cell_type": "code",
   "execution_count": 7,
   "metadata": {},
   "outputs": [
    {
     "name": "stderr",
     "output_type": "stream",
     "text": [
      "[2019-05-10 17:06] [dtailor.Functions] ERROR: Sequence does not start with a start codon\n",
      "[2019-05-10 17:06] [dtailor.Functions] ERROR: Sequence does not start with a start codon\n",
      "[2019-05-10 17:06] [dtailor.Functions] ERROR: Sequence does not start with a start codon\n",
      "[2019-05-10 17:06] [dtailor.Functions] ERROR: Sequence does not stop with a stop codon\n",
      "[2019-05-10 17:06] [dtailor.Functions] ERROR: Sequence does not stop with a stop codon\n",
      "[2019-05-10 17:06] [dtailor.Functions] ERROR: CDS length is not a multiple of 3\n",
      "[2019-05-10 17:06] [dtailor.Functions] ERROR: Sequence does not start with a start codon\n",
      "[2019-05-10 17:06] [dtailor.Functions] ERROR: Sequence does not start with a start codon\n",
      "[2019-05-10 17:06] [dtailor.Functions] ERROR: CDS length is not a multiple of 3\n",
      "[2019-05-10 17:06] [dtailor.Functions] ERROR: Sequence does not start with a start codon\n",
      "[2019-05-10 17:06] [dtailor.Functions] ERROR: Sequence does not start with a start codon\n",
      "[2019-05-10 17:06] [dtailor.Functions] ERROR: Sequence does not stop with a stop codon\n",
      "[2019-05-10 17:06] [dtailor.Functions] ERROR: CDS length is not a multiple of 3\n",
      "[2019-05-10 17:06] [dtailor.Functions] ERROR: CDS length is not a multiple of 3\n",
      "[2019-05-10 17:06] [dtailor.RunningExamples.Analyzer.AllAndRampAnalyzer] ERROR: Solution invalid\n",
      "[2019-05-10 17:06] [dtailor.Functions] ERROR: Sequence does not start with a start codon\n",
      "[2019-05-10 17:06] [dtailor.Functions] ERROR: CDS length is not a multiple of 3\n",
      "[2019-05-10 17:06] [dtailor.Functions] ERROR: Sequence does not stop with a stop codon\n",
      "[2019-05-10 17:06] [dtailor.Functions] ERROR: Sequence does not start with a start codon\n",
      "[2019-05-10 17:06] [dtailor.Functions] ERROR: CDS length is not a multiple of 3\n",
      "[2019-05-10 17:06] [dtailor.Functions] ERROR: CDS length is not a multiple of 3\n",
      "[2019-05-10 17:07] [dtailor.RunningExamples.Analyzer.AllAndRampAnalyzer] ERROR: Solution invalid\n",
      "[2019-05-10 17:07] [dtailor.Functions] ERROR: Sequence does not start with a start codon\n",
      "[2019-05-10 17:07] [dtailor.Functions] ERROR: Sequence does not stop with a stop codon\n",
      "[2019-05-10 17:07] [dtailor.Functions] ERROR: CDS length is not a multiple of 3\n",
      "[2019-05-10 17:07] [dtailor.Functions] ERROR: CDS length is not a multiple of 3\n",
      "[2019-05-10 17:07] [dtailor.RunningExamples.Analyzer.AllAndRampAnalyzer] ERROR: Solution invalid\n",
      "[2019-05-10 17:07] [dtailor.Functions] ERROR: CDS length is not a multiple of 3\n",
      "[2019-05-10 17:07] [dtailor.Functions] ERROR: CDS length is not a multiple of 3\n",
      "[2019-05-10 17:07] [dtailor.Functions] ERROR: Sequence does not start with a start codon\n",
      "[2019-05-10 17:07] [dtailor.Functions] ERROR: Sequence does not start with a start codon\n",
      "[2019-05-10 17:07] [dtailor.Functions] ERROR: CDS length is not a multiple of 3\n",
      "[2019-05-10 17:07] [dtailor.Functions] ERROR: CDS length is not a multiple of 3\n",
      "[2019-05-10 17:07] [dtailor.Functions] ERROR: CDS length is not a multiple of 3\n",
      "[2019-05-10 17:07] [dtailor.RunningExamples.Analyzer.AllAndRampAnalyzer] ERROR: Solution invalid\n",
      "[2019-05-10 17:07] [dtailor.Functions] ERROR: Sequence does not stop with a stop codon\n",
      "[2019-05-10 17:07] [dtailor.Functions] ERROR: Sequence does not start with a start codon\n",
      "[2019-05-10 17:07] [dtailor.Functions] ERROR: CDS length is not a multiple of 3\n",
      "[2019-05-10 17:07] [dtailor.Functions] ERROR: CDS length is not a multiple of 3\n",
      "[2019-05-10 17:07] [dtailor.RunningExamples.Analyzer.AllAndRampAnalyzer] ERROR: Solution invalid\n",
      "[2019-05-10 17:07] [dtailor.RunningExamples.Analyzer.AllAndRampAnalyzer] ERROR: Solution invalid\n",
      "[2019-05-10 17:07] [dtailor.Functions] ERROR: Sequence does not start with a start codon\n",
      "[2019-05-10 17:07] [dtailor.Functions] ERROR: Sequence does not start with a start codon\n",
      "[2019-05-10 17:07] [dtailor.Functions] ERROR: CDS length is not a multiple of 3\n",
      "[2019-05-10 17:07] [dtailor.Functions] ERROR: CDS length is not a multiple of 3\n",
      "[2019-05-10 17:07] [dtailor.Functions] ERROR: Sequence does not start with a start codon\n",
      "[2019-05-10 17:07] [dtailor.RunningExamples.Analyzer.AllAndRampAnalyzer] ERROR: Solution invalid\n",
      "[2019-05-10 17:07] [dtailor.Functions] ERROR: CDS length is not a multiple of 3\n",
      "[2019-05-10 17:07] [dtailor.Functions] ERROR: CDS length is not a multiple of 3\n",
      "[2019-05-10 17:07] [dtailor.Functions] ERROR: CDS length is not a multiple of 3\n",
      "[2019-05-10 17:07] [dtailor.Functions] ERROR: CDS length is not a multiple of 3\n",
      "[2019-05-10 17:07] [dtailor.Functions] ERROR: Sequence does not start with a start codon\n",
      "[2019-05-10 17:08] [dtailor.Functions] ERROR: CDS length is not a multiple of 3\n",
      "[2019-05-10 17:08] [dtailor.Functions] ERROR: CDS length is not a multiple of 3\n",
      "[2019-05-10 17:08] [dtailor.Functions] ERROR: CDS length is not a multiple of 3\n",
      "[2019-05-10 17:08] [dtailor.Functions] ERROR: CDS length is not a multiple of 3\n",
      "[2019-05-10 17:08] [dtailor.RunningExamples.Analyzer.AllAndRampAnalyzer] ERROR: Solution invalid\n",
      "[2019-05-10 17:08] [dtailor.Functions] ERROR: Sequence does not start with a start codon\n",
      "[2019-05-10 17:08] [dtailor.Functions] ERROR: CDS length is not a multiple of 3\n",
      "[2019-05-10 17:08] [dtailor.Functions] ERROR: CDS length is not a multiple of 3\n",
      "[2019-05-10 17:08] [dtailor.RunningExamples.Analyzer.AllAndRampAnalyzer] ERROR: Solution invalid\n",
      "[2019-05-10 17:08] [dtailor.RunningExamples.Analyzer.AllAndRampAnalyzer] ERROR: Solution invalid\n",
      "[2019-05-10 17:08] [dtailor.RunningExamples.Analyzer.AllAndRampAnalyzer] ERROR: Solution invalid\n",
      "[2019-05-10 17:08] [dtailor.Functions] ERROR: CDS length is not a multiple of 3\n",
      "[2019-05-10 17:08] [dtailor.Functions] ERROR: Sequence does not start with a start codon\n",
      "[2019-05-10 17:08] [dtailor.Functions] ERROR: CDS length is not a multiple of 3\n",
      "[2019-05-10 17:08] [dtailor.Functions] ERROR: Sequence does not start with a start codon\n",
      "[2019-05-10 17:08] [dtailor.RunningExamples.Analyzer.AllAndRampAnalyzer] ERROR: Solution invalid\n",
      "[2019-05-10 17:08] [dtailor.RunningExamples.Analyzer.AllAndRampAnalyzer] ERROR: Solution invalid\n"
     ]
    }
   ],
   "source": [
    "import tempfile\n",
    "from dtailor.RunningExamples.Analyzer.AllAndRampAnalyzer import AllAndRampAnalyzer\n",
    "\n",
    "runner = AllAndRampAnalyzer(\n",
    "                input_file=ecoli_cds_fasta,  # Path to CDS FASTA\n",
    "                input_type=\"FASTA\",\n",
    "                cai_table=cai_table,  # CAI table you just calculated\n",
    "                ramp=True,\n",
    "                ramp_from_to=ramp_from_to,\n",
    "                root_dir=tempfile.mkdtemp())\n",
    "\n",
    "final_info = runner.run()  # Returns a dictionary of calculated features for each coding sequence in the FASTA"
   ]
  },
  {
   "cell_type": "markdown",
   "metadata": {},
   "source": [
    "## Set your design parameters"
   ]
  },
  {
   "cell_type": "markdown",
   "metadata": {},
   "source": [
    "##### Calculate the quintiles - these are the levels to optimize to"
   ]
  },
  {
   "cell_type": "code",
   "execution_count": 8,
   "metadata": {},
   "outputs": [],
   "source": [
    "import numpy as np\n",
    "\n",
    "def get_quintile_levels(inlist: list) -> dict:\n",
    "    \"\"\"Get a dictionary of 5 levels representing the quintiles of a list with numeric values\"\"\"\n",
    "    quintiles = []\n",
    "\n",
    "    for x in [0, 20, 40, 60, 80, 100]:\n",
    "        quintiles.append(np.percentile(sorted(inlist), x))\n",
    "\n",
    "    levels = {}\n",
    "    for i, x in enumerate(quintiles):\n",
    "        if i == len(quintiles) - 1:\n",
    "            continue\n",
    "        else:\n",
    "            levels[str(i + 1)] = (x, quintiles[i + 1])\n",
    "\n",
    "    # TODO: this needs to change to allow set max and set mins\n",
    "    if levels['5'][1] > 0 and levels['1'][0] > 0:\n",
    "        levels['1'] = (0, levels['1'][1])\n",
    "        levels['5'] = (levels['5'][0], 1)\n",
    "    elif levels['1'][0] < 0:\n",
    "        levels['1'] = (-9999, levels['1'][1])\n",
    "        levels['5'] = (levels['5'][0], 0)\n",
    "\n",
    "    return levels"
   ]
  },
  {
   "cell_type": "code",
   "execution_count": 9,
   "metadata": {},
   "outputs": [],
   "source": [
    "# Gather all the CAI and MFE values\n",
    "values_cai_all = []\n",
    "values_mfe_ramp = []\n",
    "\n",
    "for locus, info in final_info.items():\n",
    "    if info:\n",
    "        values_cai_all.append(info['allCAI'])\n",
    "        values_mfe_ramp.append(info['mfeStructureRNAFoldMFE'])\n",
    "\n",
    "# Calculate the quintiles\n",
    "levels_cai_all = get_quintile_levels(values_cai_all)\n",
    "levels_mfe_ramp = get_quintile_levels(values_mfe_ramp)"
   ]
  },
  {
   "cell_type": "code",
   "execution_count": 10,
   "metadata": {},
   "outputs": [
    {
     "data": {
      "text/plain": [
       "{'1': (0, 0.6621406925016591),\n",
       " '2': (0.6621406925016591, 0.6976944572806913),\n",
       " '3': (0.6976944572806913, 0.7274185081606481),\n",
       " '4': (0.7274185081606481, 0.7579032438981487),\n",
       " '5': (0.7579032438981487, 1)}"
      ]
     },
     "execution_count": 10,
     "metadata": {},
     "output_type": "execute_result"
    }
   ],
   "source": [
    "levels_cai_all"
   ]
  },
  {
   "cell_type": "code",
   "execution_count": 11,
   "metadata": {},
   "outputs": [
    {
     "data": {
      "text/plain": [
       "{'1': (-9999, -36.2),\n",
       " '2': (-36.2, -32.1),\n",
       " '3': (-32.1, -28.5),\n",
       " '4': (-28.5, -24.4),\n",
       " '5': (-24.4, 0)}"
      ]
     },
     "execution_count": 11,
     "metadata": {},
     "output_type": "execute_result"
    }
   ],
   "source": [
    "levels_mfe_ramp"
   ]
  },
  {
   "cell_type": "code",
   "execution_count": 12,
   "metadata": {},
   "outputs": [],
   "source": [
    "LONGEST_REPEAT = 19\n",
    "LONGEST_HOMOPOLYMER = 10\n",
    "MIN_GLOBAL_GC = 25\n",
    "MAX_GLOBAL_GC = 65\n",
    "MIN_LOCAL_GC = 35\n",
    "MAX_LOCAL_GC = 65\n",
    "LOCAL_GC_WINDOW = 50\n",
    "MAX_SMALL_REPEAT_PERCENTAGE = 30\n",
    "\n",
    "levels_longestrepeat = {\n",
    "    '1': (0, LONGEST_REPEAT),\n",
    "    '0': (LONGEST_REPEAT, 99999999999)}\n",
    "\n",
    "levels_longesthomopolymer = {\n",
    "    '1': (0, LONGEST_HOMOPOLYMER),\n",
    "    '0': (LONGEST_HOMOPOLYMER, 99999999999)}\n",
    "\n",
    "levels_globalgc = {\n",
    "    '0': (0, MIN_GLOBAL_GC),\n",
    "    '1': (MIN_GLOBAL_GC, MAX_GLOBAL_GC),\n",
    "    '2': (MAX_GLOBAL_GC, 100)}\n",
    "\n",
    "levels_localgc = {\n",
    "    '0': (0, MIN_LOCAL_GC),\n",
    "    '1': (MIN_LOCAL_GC, MAX_LOCAL_GC),\n",
    "    '2': (MAX_LOCAL_GC, 100)}\n",
    "\n",
    "levels_smallrepeatpercentage = {\n",
    "    '1': (0, MAX_SMALL_REPEAT_PERCENTAGE),\n",
    "    '0': (MAX_SMALL_REPEAT_PERCENTAGE, 1000)}"
   ]
  },
  {
   "cell_type": "code",
   "execution_count": 20,
   "metadata": {},
   "outputs": [],
   "source": [
    "from collections import OrderedDict\n",
    "\n",
    "\n",
    "def make_design_params(in_seq: str, \n",
    "                       ramp_from_to: tuple, \n",
    "                       levels_mfe_ramp: tuple, \n",
    "                       levels_cai_all: tuple,\n",
    "                       levels_longestrepeat: tuple,\n",
    "                       levels_longesthomopolymer: tuple,\n",
    "                       levels_globalgc: tuple,\n",
    "                       levels_localgc: tuple) -> OrderedDict:\n",
    "    \"\"\"Simple function to make your design parameters\"\"\"\n",
    "    \n",
    "    design_params = OrderedDict()\n",
    "    \n",
    "    design_params[\"mfe\"] = {\n",
    "        'feattype'      : 'StructureRNAFoldMFE',\n",
    "        'type'          : 'REAL',\n",
    "        'mutable_region': ramp_from_to,\n",
    "        'thresholds'    : levels_mfe_ramp\n",
    "    }\n",
    "\n",
    "    design_params[\"ramp\"] = {\n",
    "        'feattype'      : 'CAI',\n",
    "        'type'          : 'REAL',\n",
    "        'mutable_region': ramp_from_to,\n",
    "        'thresholds'    : levels_cai_all\n",
    "    }\n",
    "\n",
    "    design_params[\"rest\"] = {\n",
    "        'feattype'      : 'CAI',\n",
    "        'type'          : 'REAL',\n",
    "        'mutable_region': (ramp_from_to[1], len(in_seq)),\n",
    "        'thresholds'    : levels_cai_all\n",
    "    }\n",
    "    \n",
    "    design_params['lrs'] = {\n",
    "        'feattype'      : 'LongestRepeatedSubstr',\n",
    "        'type'          : 'INTEGER',\n",
    "        'mutable_region': (0, len(in_seq)),\n",
    "        'thresholds'    : levels_longestrepeat\n",
    "    }\n",
    "\n",
    "    design_params['lh'] = {\n",
    "        'feattype': 'LongestHomopolymer',\n",
    "        'type' : 'INTEGER',\n",
    "        'mutable_region': (0, len(in_seq)),\n",
    "        'thresholds'    : levels_longesthomopolymer\n",
    "    }\n",
    "    \n",
    "    design_params['ggc'] = {\n",
    "        'feattype'      : 'GlobalGC',\n",
    "        'type'          : 'REAL',\n",
    "        'mutable_region': (0, len(in_seq)),\n",
    "        'thresholds'    : levels_globalgc\n",
    "    }\n",
    "    \n",
    "    design_params['lgc'] = {\n",
    "        'feattype'      : 'LocalGC',\n",
    "        'type'          : 'REAL',\n",
    "        'mutable_region': (0, len(in_seq)),\n",
    "        'thresholds'    : levels_localgc\n",
    "    }\n",
    "    \n",
    "    return design_params"
   ]
  },
  {
   "cell_type": "markdown",
   "metadata": {},
   "source": [
    "## Design a sequence to meet specific targets"
   ]
  },
  {
   "cell_type": "markdown",
   "metadata": {},
   "source": [
    "##### Specify your targets and output directory"
   ]
  },
  {
   "cell_type": "code",
   "execution_count": 21,
   "metadata": {},
   "outputs": [],
   "source": [
    "targets = ['5.1.5.1.1.1.1', '5.5.5.1.1.1.1', '1.5.5.1.1.1.1']\n",
    "\n",
    "outdir = './out'"
   ]
  },
  {
   "cell_type": "markdown",
   "metadata": {},
   "source": [
    "##### Run it!"
   ]
  },
  {
   "cell_type": "code",
   "execution_count": 22,
   "metadata": {},
   "outputs": [],
   "source": [
    "from dtailor.DesignOfExperiments.Design import CustomDesign, RandomSampling\n",
    "from dtailor.RunningExamples.Designer.GenericDesigner import GenericDesigner"
   ]
  },
  {
   "cell_type": "code",
   "execution_count": 23,
   "metadata": {},
   "outputs": [],
   "source": [
    "import os.path as op\n",
    "import sqlite3\n",
    "import pandas as pd\n",
    "\n",
    "def parse_sqlite_results(in_seq_id, outdir):\n",
    "    # Parse out sequences from SQLite database\n",
    "    output_file = op.join(outdir, in_seq_id) + '.sqlite'\n",
    "    conn = sqlite3.connect(output_file)\n",
    "    tmp = pd.read_sql(con=conn, sql=\"select * from generated_solution WHERE des_solution_id <> '';\")\n",
    "    # TODO: this will drop sequences with multiple solutions...is that wanted?\n",
    "    result = {k: v['sequence'] for k, v in\n",
    "              tmp[['des_solution_id', 'sequence']].drop_duplicates(subset='des_solution_id').set_index(\n",
    "                  'des_solution_id').to_dict(orient='index').items()}\n",
    "    return result"
   ]
  },
  {
   "cell_type": "code",
   "execution_count": 26,
   "metadata": {},
   "outputs": [
    {
     "name": "stderr",
     "output_type": "stream",
     "text": [
      "[2019-05-10 17:15] [dtailor.SequenceDesigner] INFO: Starting scores:\n",
      "[2019-05-10 17:15] [dtailor.SequenceDesigner] INFO: {'mfeStructureRNAFoldMFE': -17.5, 'rampCAI': 0.6222998089169588, 'restCAI': 0.5998345299571216, 'lrsLongestRepeatedSubstr': 11, 'lhLongestHomopolymer': 5, 'ggcGlobalGC': 40.02677376171352, 'lgcLocalGC': 56.0}\n",
      "[2019-05-10 17:15] [dtailor.SequenceDesigner] INFO: {'mfeStructureRNAFoldMFELevel': '5', 'rampCAILevel': '1', 'restCAILevel': '1', 'lrsLongestRepeatedSubstrLevel': '1', 'lhLongestHomopolymerLevel': '1', 'ggcGlobalGCLevel': '1', 'lgcLocalGCLevel': '1'}\n",
      "[2019-05-10 17:15] [dtailor.SequenceDesigner] INFO: Looking for combination: 5.1.5.1.1.1.1\n",
      "[2019-05-10 17:16] [dtailor.SequenceDesigner] INFO: Solution found for 5.1.5.1.1.1.1, inserting into DB\n",
      "[2019-05-10 17:16] [dtailor.SequenceDesigner] INFO: Looking for combination: 5.5.5.1.1.1.1\n",
      "[2019-05-10 17:16] [dtailor.SequenceDesigner] INFO: SolutionIterator: starting from level (mfe.ramp.rest.lrs.lh.ggc.lgc): 5.1.5.1.1.1.2\n",
      "[2019-05-10 17:16] [dtailor.SequenceDesigner] INFO: Solution found for 5.5.5.1.1.1.1, inserting into DB\n",
      "[2019-05-10 17:16] [dtailor.SequenceDesigner] INFO: Looking for combination: 1.5.5.1.1.1.1\n",
      "[2019-05-10 17:16] [dtailor.SequenceDesigner] INFO: SolutionIterator: starting from level (mfe.ramp.rest.lrs.lh.ggc.lgc): 5.1.5.1.1.1.1\n",
      "[2019-05-10 17:17] [dtailor.SequenceDesigner] INFO: Solution found for 1.5.5.1.1.1.1, inserting into DB\n",
      "[2019-05-10 17:17] [dtailor.SequenceDesigner] INFO: Time elapsed: 69.25 (s) \t Solutions generated: 101 \t Rate (last min.): 1.44 sol/s  \t Rate (overall): 1.46 sol/s\n"
     ]
    }
   ],
   "source": [
    "results = {}\n",
    "\n",
    "for ident, seq in seqs_to_optimize.items():\n",
    "    \n",
    "    # Specify the parameters you want to optimize to\n",
    "    design = CustomDesign(featuresObj=make_design_params(in_seq=seq, \n",
    "                                                         ramp_from_to=ramp_from_to,\n",
    "                                                         levels_mfe_ramp=levels_mfe_ramp,\n",
    "                                                         levels_cai_all=levels_cai_all,\n",
    "                                                         levels_longestrepeat=levels_longestrepeat,\n",
    "                                                         levels_longesthomopolymer=levels_longesthomopolymer,\n",
    "                                                         levels_globalgc=levels_globalgc,\n",
    "                                                         levels_localgc=levels_localgc),\n",
    "                          targets=targets)\n",
    "\n",
    "    # Get ready to run everything and run it\n",
    "    runner = GenericDesigner(\n",
    "        name=ident, \n",
    "        seed=seq,\n",
    "        design=design, \n",
    "        cai_table=cai_table,  # Your pre computed CAI table\n",
    "        mutable_region=None, cds_region=None,   # Just leave these as None for now..unsure what changing them does\n",
    "        keep_aa=True,  # Don't mutate amino acids\n",
    "        check_frame=True,  # Check if designed sequence has correct coding frame\n",
    "        check_start=True,  # Check if designed sequence still has start codon\n",
    "        check_end_stop=True,   # Check if designed sequence still has stop codon\n",
    "        check_within_stop=True,  # Check if designed sequence does not have stop codons inside\n",
    "        root_dir=outdir, \n",
    "        createDB=True)\n",
    "    \n",
    "    # Actually run it\n",
    "    stats = runner.run()\n",
    "    \n",
    "    # Pull out the designed seqs from the SQLite db\n",
    "    result = parse_sqlite_results(in_seq_id=ident, outdir=outdir)\n",
    "    \n",
    "    # Store in a dictionary\n",
    "    results[ident] = result"
   ]
  },
  {
   "cell_type": "code",
   "execution_count": 27,
   "metadata": {
    "scrolled": false
   },
   "outputs": [
    {
     "data": {
      "text/plain": [
       "{'example1': {'5.1.5.1.1.1.1': 'atgtctgcaacttccgtcactttcccaatgatcaacgaaacttaccaacagccaaccgggcttttcatcaacaatgaatttgttagtgcaaagtcaggtaagacttttgatgttaacactccgattgatgagtctttaatttgcaaagtccagcaggcggatgcggaagatgtggaaattgcggtgcaagcggcgtcgaaagcgtataaaacctggcggtttacgccgccgaacgaacgtggccgctacctgaacaaactggcggatctgatggacgaaaaaagagatctgcttgcgaaaattgaaagtctcgataacggcaaagcgctgcattgcgcgaaatttgatgtgaacctcgtgattgaatattttcgctactgtgcaggctattgtgataaaattgatggccgcaccattacgaccgatgtggaacattttacctataccagaaaagaacctctgggcgtgtgcggcgcgattacgccgtggaactttccgctgctgatgtttgcctggaaaattggcccggccctggccaccggcaacaccattattttgaaacctgccagtgcgacaccactaagcaacctgtttacgtgcaccttaattaaagaagcgggcattccagccggtgttgtcaatgttgtgccaggctcgggcagaggctgcggcaactcgattctgcagcatccgaaaattaagaaagtggcgtttaccgggagcacagaagtgggtaaaaccgtgatgaaagaatgcgctaacagcattaaaaaagtgacgctggaattaggcggcaagtctccgaacattgtgttcaaagattgtaacgtggaacagaccattcaaaacttgattacgggcattttctttaacggcggcgaagtctgctgcgcgggcagccgcatttatattgaagccaccgatgaaaaatggtataccgaatttttgaccaaattcaaagaaaccgtggaaaaactgaagattggcaacccgtttgaagagggtgtgtttcagggcgcccagaccacgccagatcagtttcagaccgtgctggattatattaccgccgcgaacgaatccagcttaaaattgttaaccggtggcaaacgcattggcaacaaaggctattttgtggagccgaccattttttatgatgtgccgcagaacagtaaactgacgcaggaagaaatttttggcccggtggcagtggttctgccttttaaaagcacggaagaactgattgaaaaggcgaacgattccgattttggcttaggtagcggtattcacacggaagattttaacaaagcgatttgggtgtcggaacggttagaagcgggcagtgtttggattaacacgtataatgatttccatccagccgcaccgtttggcggctataaagaaagtggcattggccgtgaaatgggcattgaagcattcgataactatacccagaccaaactggtgcgcgcgcgggtgaacaaaccggctttttag',\n",
       "  '5.5.5.1.1.1.1': 'atgtcggccacctcggttacgtttccgatgattaacgaaacctatcagcagccgaccggcctgtttattaacaacgagtttgtgagcgcgaaatccggcaaaacgtttgatgtgaataccccgattgatgagtctttaatttgcaaagtccagcaggcggatgcggaagatgtggaaattgcggtgcaagcggcgtcgaaagcgtataaaacctggcggtttacgccgccgaacgaacgtggccgctacctgaacaaactggcggatctgatggacgaaaaaagagatctgcttgcgaaaattgaaagtctcgataacggcaaagcgctgcattgcgcgaaatttgatgtgaacctcgtgattgaatattttcgctactgtgcaggctattgtgataaaattgatggccgcaccattacgaccgatgtggaacattttacctataccagaaaagaacctctgggcgtgtgcggcgcgattacgccgtggaactttccgctgctgatgtttgcctggaaaattggcccggccctggccaccggcaacaccattattttgaaacctgccagtgcgacaccactaagcaacctgtttacgtgcaccttaattaaagaagcgggcattccggccggtgttgtcaatgttgtaccaggctcgggcagaggctgcggcaactcgattctgcagcatccgaaaattaagaaagtggcgtttaccgggagcacagaagtgggtaaaaccgtgatgaaagaatgcgctaacagcattaaaaaagtgacgctggaattaggcggcaagtctccgaacattgtgttcaaagattgtaacgtggaacagaccattcaaaacttgattacgggcattttctttaacggcggcgaagtctgctgcgcgggcagccgcatttatattgaagccaccgatgaaaaatggtataccgaatttttgaccaaattcaaagaaaccgtggaaaaactgaagattggcaacccgtttgaagagggtgtgtttcagggcgcccagaccacgccagatcagtttcagaccgtgctggattatattaccgccgcgaacgaatccagcttaaaattgttaaccggtggcaaacgcattggcaacaaaggctattttgtggagccgaccattttttatgatgtgccgcagaacagtaaactgacgcaggaagaaatttttggcccggtggcagtggttctgccttttaaaagcacggaagaactgattgaaaaggcgaacgattccgattttggcttaggtagcggtattcacacggaagattttaacaaagcgatttgggtgtcggaacggttagaagcgggcagtgtttggattaacacgtataatgatttccatccagccgcaccgtttggcggctataaagaaagtggcattggccgtgaaatgggcattgaagcattcgataactatacccagaccaaactggtgcgcgcgcgggtgaacaaaccggctttttag',\n",
       "  '1.5.5.1.1.1.1': 'atgtcggcgacttcggtaacctttcctatgatcaacgaaacctaccagcagccgacaggtttgtttattaacaacgaattcgtgtccgctaaaagcggcaaaacgttcgatgttaatacgccgattgatgagtctttaatttgcaaagtccagcaggcggatgcggaagatgtggaaattgcggtgcaagcggcgtcgaaagcgtataaaacctggcggtttacgccgccgaacgaacgtggccgctacctgaacaaactggcggatctgatggacgaaaaaagagatctgcttgcgaaaattgaaagtctcgataacggcaaagcgctgcattgcgcgaaatttgatgtgaacctcgtgattgaatattttcgctactgtgcaggctattgtgataaaattgatggccgcaccattacgaccgatgtggaacattttacctataccagaaaagaacctctgggcgtgtgcggcgcgattacgccgtggaactttccgctgctgatgtttgcctggaaaattggcccggccctggccaccggcaacaccattattttgaaacctgccagtgcgacaccactaagcaacctgtttacgtgcaccttaattaaagaagcgggcattccggccggtgttgtcaatgttgtaccaggctcgggcagaggctgcggcaactcgattctgcagcatccgaaaattaagaaagtggcgtttaccgggagcacagaagtgggtaaaaccgtgatgaaagaatgcgctaacagcattaaaaaagtgacgctggaattaggcggcaagtctccgaacattgtgttcaaagattgtaacgtggaacagaccattcaaaacttgattacgggcattttctttaacggcggcgaagtctgctgcgcgggcagccgcatttatattgaagccaccgatgaaaaatggtataccgaatttttgaccaaattcaaagaaaccgtggaaaaactgaagattggcaacccgtttgaagagggtgtgtttcagggcgcccagaccacgccagatcagtttcagaccgtgctggattatattaccgccgcgaacgaatccagcttaaaattgttaaccggtggcaaacgcattggcaacaaaggctattttgtggagccgaccattttttatgatgtgccgcagaacagtaaactgacgcaggaagaaatttttggcccggtggcagtggttctgccttttaaaagcacggaagaactgattgaaaaggcgaacgattccgattttggcttaggtagcggtattcacacggaagattttaacaaagcgatttgggtgtcggaacggttagaagcgggcagtgtttggattaacacgtataatgatttccatccagccgcaccgtttggcggctataaagaaagtggcattggccgtgaaatgggcattgaagcattcgataactatacccagaccaaactggtgcgcgcgcgggtgaacaaaccggctttttag'}}"
      ]
     },
     "execution_count": 27,
     "metadata": {},
     "output_type": "execute_result"
    }
   ],
   "source": [
    "results"
   ]
  },
  {
   "cell_type": "code",
   "execution_count": null,
   "metadata": {},
   "outputs": [],
   "source": []
  }
 ],
 "metadata": {
  "kernelspec": {
   "display_name": "Python 3",
   "language": "python",
   "name": "python3"
  },
  "language_info": {
   "codemirror_mode": {
    "name": "ipython",
    "version": 3
   },
   "file_extension": ".py",
   "mimetype": "text/x-python",
   "name": "python",
   "nbconvert_exporter": "python",
   "pygments_lexer": "ipython3",
   "version": "3.7.3"
  }
 },
 "nbformat": 4,
 "nbformat_minor": 2
}
